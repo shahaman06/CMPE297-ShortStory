{
  "cells": [
    {
      "cell_type": "markdown",
      "metadata": {
        "id": "view-in-github",
        "colab_type": "text"
      },
      "source": [
        "<a href=\"https://colab.research.google.com/github/shahaman06/CMPE297-ShortStory/blob/main/Colab_Notebook.ipynb\" target=\"_parent\"><img src=\"https://colab.research.google.com/assets/colab-badge.svg\" alt=\"Open In Colab\"/></a>"
      ]
    },
    {
      "cell_type": "code",
      "source": [
        "#Intial Files Setup\n",
        "\n",
        "!rm -r *\n",
        "!git clone \"https://github.com/shahaman06/CMPE297-ShortStory/\"\n",
        "!mv /content/CMPE297-ShortStory/* /content/\n",
        "!rm -r CMPE297-ShortStory README.md Colab_Notebook.ipynb"
      ],
      "metadata": {
        "colab": {
          "base_uri": "https://localhost:8080/"
        },
        "id": "gLqlCV4x___F",
        "outputId": "51d435ba-7f5d-47c9-af49-81b2494f8b20"
      },
      "execution_count": 13,
      "outputs": [
        {
          "output_type": "stream",
          "name": "stdout",
          "text": [
            "Cloning into 'CMPE297-ShortStory'...\n",
            "remote: Enumerating objects: 817, done.\u001b[K\n",
            "remote: Counting objects: 100% (817/817), done.\u001b[K\n",
            "remote: Compressing objects: 100% (806/806), done.\u001b[K\n",
            "remote: Total 817 (delta 28), reused 790 (delta 11), pack-reused 0\n",
            "Receiving objects: 100% (817/817), 12.03 MiB | 10.51 MiB/s, done.\n",
            "Resolving deltas: 100% (28/28), done.\n"
          ]
        }
      ]
    },
    {
      "cell_type": "code",
      "execution_count": 14,
      "metadata": {
        "id": "APkMNevY0S95"
      },
      "outputs": [],
      "source": [
        "import os\n",
        "import cv2\n",
        "import numpy as np\n",
        "\n",
        "from tqdm.contrib import itertools\n",
        "from torch.cuda import is_available\n",
        "from torch.utils.data import DataLoader,Dataset\n",
        "from torch.optim import Adam\n",
        "from torch.nn import BCELoss\n",
        "from torch import ones, randn, tensor\n",
        "from torchvision import transforms\n",
        "from modules import Discriminator, Generator\n",
        "from glob import glob\n",
        "\n",
        "# Make sure you are using GPU during Colab Session for faster execution\n",
        "device = 'cuda' if is_available() else 'cpu'"
      ]
    },
    {
      "cell_type": "code",
      "execution_count": 15,
      "metadata": {
        "id": "ob1QpK600S-I"
      },
      "outputs": [],
      "source": [
        "# Declaring GLOBAL VARS:\n",
        "BATCH_SIZE = 25\n",
        "IMG_SHAPE = 208\n",
        "EPOCHS = 5\n",
        "RANDOM_NOISE_SHAPE = 256"
      ]
    },
    {
      "cell_type": "code",
      "source": [
        "class PaintingDataset(Dataset):\n",
        "    def __init__(self, loc = os.path.join('/content/paintings/'), img_shape = 208):\n",
        "        self.loc = loc\n",
        "        self.img_shape = img_shape\n",
        "        self.paintings=[]\n",
        "        # removing invalid image files\n",
        "        for i in glob(os.path.join(loc+'*.jpg')):\n",
        "          img = cv2.imread(i)\n",
        "          if type(img) != type(None):\n",
        "            self.paintings.append(i)\n",
        "\n",
        "    def __len__(self):\n",
        "        return len(self.paintings)\n",
        "    \n",
        "    def __getitem__(self, idx):\n",
        "        img = self.paintings[idx]\n",
        "        img = cv2.imread(img)\n",
        "        img = cv2.resize(img, (self.img_shape, self.img_shape))\n",
        "        img = np.moveaxis(img, -1, 0) # pytorch takes channel first images\n",
        "        img = tensor(img).float()\n",
        "        return img.to(device)"
      ],
      "metadata": {
        "id": "1Kihe7XgJayJ"
      },
      "execution_count": 16,
      "outputs": []
    },
    {
      "cell_type": "code",
      "source": [
        "ds = PaintingDataset(img_shape = IMG_SHAPE,)\n",
        "loader = DataLoader(ds, shuffle = True, batch_size = BATCH_SIZE)\n",
        "batch = next(iter(loader))"
      ],
      "metadata": {
        "id": "BBFWb5Kv21et"
      },
      "execution_count": 17,
      "outputs": []
    },
    {
      "cell_type": "code",
      "execution_count": 18,
      "metadata": {
        "colab": {
          "base_uri": "https://localhost:8080/",
          "height": 49,
          "referenced_widgets": [
            "3f8098a4fbcb4cb288cbd4622bdf3e78",
            "3e60aeba5ea145078bad587564bc705c",
            "c94344fcb5804794ae4dc17c883085c7",
            "d37eb9072fa940bdbbfdb4618c6fb2c9",
            "2c294cd2993c4c099ab3da9b1b310dc7",
            "d2779b8fdf914f6cba7b1e1b26814317",
            "a900b7a9e4ee455fa452e0b212f8b6e7",
            "a649832d31534f8192844ec0f6da3d3d",
            "92c2152655aa48be935e130163956f42",
            "aec8997a86ae49a191693d7f07317f34",
            "45fa5c49504e4920a8fa0a4cc447bcc7"
          ]
        },
        "id": "oRIDPUel0S-N",
        "outputId": "fb81a2ae-590a-4b80-ee37-de2c3bbd8b47"
      },
      "outputs": [
        {
          "output_type": "display_data",
          "data": {
            "text/plain": [
              "  0%|          | 0/410 [00:00<?, ?it/s]"
            ],
            "application/vnd.jupyter.widget-view+json": {
              "version_major": 2,
              "version_minor": 0,
              "model_id": "3f8098a4fbcb4cb288cbd4622bdf3e78"
            }
          },
          "metadata": {}
        }
      ],
      "source": [
        "disc = Discriminator().to(device)\n",
        "gen = Generator().to(device)\n",
        "\n",
        "lr = 0.0002\n",
        "epochs = 2\n",
        "\n",
        "optimD = Adam(disc.parameters(), lr = lr, betas = (0.5, 0.99))\n",
        "optimG = Adam(gen.parameters(), lr = lr, betas = (0.5, 0.99))\n",
        "\n",
        "criterion = BCELoss()\n",
        "\n",
        "real_label = 1\n",
        "fake_label = 0\n",
        "\n",
        "for _,data in itertools.product(range(EPOCHS),loader):\n",
        "    batch_size = data.shape[0]\n",
        "\n",
        "    ## Training discriminator\n",
        "\n",
        "    '''First feeding the real images'''\n",
        "    label = (ones(batch_size)* 0.9).to(device)\n",
        "    output = disc(data).reshape(-1)\n",
        "    lossD_real = criterion(output, label)\n",
        "\n",
        "    '''feeding generated images'''\n",
        "    label = (ones(batch_size) * 0.1).to(device)\n",
        "    rand_noise = randn((batch_size, RANDOM_NOISE_SHAPE, 1, 1)).to(device)\n",
        "    fake_image = gen(rand_noise)\n",
        "    output = disc(fake_image.detach()).reshape(-1)\n",
        "    lossD_fake = criterion(output, label)\n",
        "\n",
        "    '''Back propogating discriminator and updating weights'''\n",
        "    disc.zero_grad()\n",
        "    lossD = lossD_real + lossD_fake\n",
        "    lossD.backward()\n",
        "    optimD.step()\n",
        "\n",
        "    ## Training generator\n",
        "\n",
        "    label = ones(batch_size).to(device)\n",
        "    output = disc(fake_image).reshape(-1)\n",
        "    lossG = criterion(output, label)\n",
        "\n",
        "    '''Backpropogating'''\n",
        "    gen.zero_grad()\n",
        "    lossG.backward()\n",
        "    optimG.step()"
      ]
    }
  ],
  "metadata": {
    "kernelspec": {
      "display_name": "Python 3",
      "language": "python",
      "name": "python3"
    },
    "language_info": {
      "codemirror_mode": {
        "name": "ipython",
        "version": 3
      },
      "file_extension": ".py",
      "mimetype": "text/x-python",
      "name": "python",
      "nbconvert_exporter": "python",
      "pygments_lexer": "ipython3",
      "version": "3.6.9"
    },
    "colab": {
      "provenance": [],
      "include_colab_link": true
    },
    "accelerator": "GPU",
    "gpuClass": "standard",
    "widgets": {
      "application/vnd.jupyter.widget-state+json": {
        "3f8098a4fbcb4cb288cbd4622bdf3e78": {
          "model_module": "@jupyter-widgets/controls",
          "model_name": "HBoxModel",
          "model_module_version": "1.5.0",
          "state": {
            "_dom_classes": [],
            "_model_module": "@jupyter-widgets/controls",
            "_model_module_version": "1.5.0",
            "_model_name": "HBoxModel",
            "_view_count": null,
            "_view_module": "@jupyter-widgets/controls",
            "_view_module_version": "1.5.0",
            "_view_name": "HBoxView",
            "box_style": "",
            "children": [
              "IPY_MODEL_3e60aeba5ea145078bad587564bc705c",
              "IPY_MODEL_c94344fcb5804794ae4dc17c883085c7",
              "IPY_MODEL_d37eb9072fa940bdbbfdb4618c6fb2c9"
            ],
            "layout": "IPY_MODEL_2c294cd2993c4c099ab3da9b1b310dc7"
          }
        },
        "3e60aeba5ea145078bad587564bc705c": {
          "model_module": "@jupyter-widgets/controls",
          "model_name": "HTMLModel",
          "model_module_version": "1.5.0",
          "state": {
            "_dom_classes": [],
            "_model_module": "@jupyter-widgets/controls",
            "_model_module_version": "1.5.0",
            "_model_name": "HTMLModel",
            "_view_count": null,
            "_view_module": "@jupyter-widgets/controls",
            "_view_module_version": "1.5.0",
            "_view_name": "HTMLView",
            "description": "",
            "description_tooltip": null,
            "layout": "IPY_MODEL_d2779b8fdf914f6cba7b1e1b26814317",
            "placeholder": "​",
            "style": "IPY_MODEL_a900b7a9e4ee455fa452e0b212f8b6e7",
            "value": "100%"
          }
        },
        "c94344fcb5804794ae4dc17c883085c7": {
          "model_module": "@jupyter-widgets/controls",
          "model_name": "FloatProgressModel",
          "model_module_version": "1.5.0",
          "state": {
            "_dom_classes": [],
            "_model_module": "@jupyter-widgets/controls",
            "_model_module_version": "1.5.0",
            "_model_name": "FloatProgressModel",
            "_view_count": null,
            "_view_module": "@jupyter-widgets/controls",
            "_view_module_version": "1.5.0",
            "_view_name": "ProgressView",
            "bar_style": "success",
            "description": "",
            "description_tooltip": null,
            "layout": "IPY_MODEL_a649832d31534f8192844ec0f6da3d3d",
            "max": 410,
            "min": 0,
            "orientation": "horizontal",
            "style": "IPY_MODEL_92c2152655aa48be935e130163956f42",
            "value": 410
          }
        },
        "d37eb9072fa940bdbbfdb4618c6fb2c9": {
          "model_module": "@jupyter-widgets/controls",
          "model_name": "HTMLModel",
          "model_module_version": "1.5.0",
          "state": {
            "_dom_classes": [],
            "_model_module": "@jupyter-widgets/controls",
            "_model_module_version": "1.5.0",
            "_model_name": "HTMLModel",
            "_view_count": null,
            "_view_module": "@jupyter-widgets/controls",
            "_view_module_version": "1.5.0",
            "_view_name": "HTMLView",
            "description": "",
            "description_tooltip": null,
            "layout": "IPY_MODEL_aec8997a86ae49a191693d7f07317f34",
            "placeholder": "​",
            "style": "IPY_MODEL_45fa5c49504e4920a8fa0a4cc447bcc7",
            "value": " 410/410 [03:41&lt;00:00,  1.97it/s]"
          }
        },
        "2c294cd2993c4c099ab3da9b1b310dc7": {
          "model_module": "@jupyter-widgets/base",
          "model_name": "LayoutModel",
          "model_module_version": "1.2.0",
          "state": {
            "_model_module": "@jupyter-widgets/base",
            "_model_module_version": "1.2.0",
            "_model_name": "LayoutModel",
            "_view_count": null,
            "_view_module": "@jupyter-widgets/base",
            "_view_module_version": "1.2.0",
            "_view_name": "LayoutView",
            "align_content": null,
            "align_items": null,
            "align_self": null,
            "border": null,
            "bottom": null,
            "display": null,
            "flex": null,
            "flex_flow": null,
            "grid_area": null,
            "grid_auto_columns": null,
            "grid_auto_flow": null,
            "grid_auto_rows": null,
            "grid_column": null,
            "grid_gap": null,
            "grid_row": null,
            "grid_template_areas": null,
            "grid_template_columns": null,
            "grid_template_rows": null,
            "height": null,
            "justify_content": null,
            "justify_items": null,
            "left": null,
            "margin": null,
            "max_height": null,
            "max_width": null,
            "min_height": null,
            "min_width": null,
            "object_fit": null,
            "object_position": null,
            "order": null,
            "overflow": null,
            "overflow_x": null,
            "overflow_y": null,
            "padding": null,
            "right": null,
            "top": null,
            "visibility": null,
            "width": null
          }
        },
        "d2779b8fdf914f6cba7b1e1b26814317": {
          "model_module": "@jupyter-widgets/base",
          "model_name": "LayoutModel",
          "model_module_version": "1.2.0",
          "state": {
            "_model_module": "@jupyter-widgets/base",
            "_model_module_version": "1.2.0",
            "_model_name": "LayoutModel",
            "_view_count": null,
            "_view_module": "@jupyter-widgets/base",
            "_view_module_version": "1.2.0",
            "_view_name": "LayoutView",
            "align_content": null,
            "align_items": null,
            "align_self": null,
            "border": null,
            "bottom": null,
            "display": null,
            "flex": null,
            "flex_flow": null,
            "grid_area": null,
            "grid_auto_columns": null,
            "grid_auto_flow": null,
            "grid_auto_rows": null,
            "grid_column": null,
            "grid_gap": null,
            "grid_row": null,
            "grid_template_areas": null,
            "grid_template_columns": null,
            "grid_template_rows": null,
            "height": null,
            "justify_content": null,
            "justify_items": null,
            "left": null,
            "margin": null,
            "max_height": null,
            "max_width": null,
            "min_height": null,
            "min_width": null,
            "object_fit": null,
            "object_position": null,
            "order": null,
            "overflow": null,
            "overflow_x": null,
            "overflow_y": null,
            "padding": null,
            "right": null,
            "top": null,
            "visibility": null,
            "width": null
          }
        },
        "a900b7a9e4ee455fa452e0b212f8b6e7": {
          "model_module": "@jupyter-widgets/controls",
          "model_name": "DescriptionStyleModel",
          "model_module_version": "1.5.0",
          "state": {
            "_model_module": "@jupyter-widgets/controls",
            "_model_module_version": "1.5.0",
            "_model_name": "DescriptionStyleModel",
            "_view_count": null,
            "_view_module": "@jupyter-widgets/base",
            "_view_module_version": "1.2.0",
            "_view_name": "StyleView",
            "description_width": ""
          }
        },
        "a649832d31534f8192844ec0f6da3d3d": {
          "model_module": "@jupyter-widgets/base",
          "model_name": "LayoutModel",
          "model_module_version": "1.2.0",
          "state": {
            "_model_module": "@jupyter-widgets/base",
            "_model_module_version": "1.2.0",
            "_model_name": "LayoutModel",
            "_view_count": null,
            "_view_module": "@jupyter-widgets/base",
            "_view_module_version": "1.2.0",
            "_view_name": "LayoutView",
            "align_content": null,
            "align_items": null,
            "align_self": null,
            "border": null,
            "bottom": null,
            "display": null,
            "flex": null,
            "flex_flow": null,
            "grid_area": null,
            "grid_auto_columns": null,
            "grid_auto_flow": null,
            "grid_auto_rows": null,
            "grid_column": null,
            "grid_gap": null,
            "grid_row": null,
            "grid_template_areas": null,
            "grid_template_columns": null,
            "grid_template_rows": null,
            "height": null,
            "justify_content": null,
            "justify_items": null,
            "left": null,
            "margin": null,
            "max_height": null,
            "max_width": null,
            "min_height": null,
            "min_width": null,
            "object_fit": null,
            "object_position": null,
            "order": null,
            "overflow": null,
            "overflow_x": null,
            "overflow_y": null,
            "padding": null,
            "right": null,
            "top": null,
            "visibility": null,
            "width": null
          }
        },
        "92c2152655aa48be935e130163956f42": {
          "model_module": "@jupyter-widgets/controls",
          "model_name": "ProgressStyleModel",
          "model_module_version": "1.5.0",
          "state": {
            "_model_module": "@jupyter-widgets/controls",
            "_model_module_version": "1.5.0",
            "_model_name": "ProgressStyleModel",
            "_view_count": null,
            "_view_module": "@jupyter-widgets/base",
            "_view_module_version": "1.2.0",
            "_view_name": "StyleView",
            "bar_color": null,
            "description_width": ""
          }
        },
        "aec8997a86ae49a191693d7f07317f34": {
          "model_module": "@jupyter-widgets/base",
          "model_name": "LayoutModel",
          "model_module_version": "1.2.0",
          "state": {
            "_model_module": "@jupyter-widgets/base",
            "_model_module_version": "1.2.0",
            "_model_name": "LayoutModel",
            "_view_count": null,
            "_view_module": "@jupyter-widgets/base",
            "_view_module_version": "1.2.0",
            "_view_name": "LayoutView",
            "align_content": null,
            "align_items": null,
            "align_self": null,
            "border": null,
            "bottom": null,
            "display": null,
            "flex": null,
            "flex_flow": null,
            "grid_area": null,
            "grid_auto_columns": null,
            "grid_auto_flow": null,
            "grid_auto_rows": null,
            "grid_column": null,
            "grid_gap": null,
            "grid_row": null,
            "grid_template_areas": null,
            "grid_template_columns": null,
            "grid_template_rows": null,
            "height": null,
            "justify_content": null,
            "justify_items": null,
            "left": null,
            "margin": null,
            "max_height": null,
            "max_width": null,
            "min_height": null,
            "min_width": null,
            "object_fit": null,
            "object_position": null,
            "order": null,
            "overflow": null,
            "overflow_x": null,
            "overflow_y": null,
            "padding": null,
            "right": null,
            "top": null,
            "visibility": null,
            "width": null
          }
        },
        "45fa5c49504e4920a8fa0a4cc447bcc7": {
          "model_module": "@jupyter-widgets/controls",
          "model_name": "DescriptionStyleModel",
          "model_module_version": "1.5.0",
          "state": {
            "_model_module": "@jupyter-widgets/controls",
            "_model_module_version": "1.5.0",
            "_model_name": "DescriptionStyleModel",
            "_view_count": null,
            "_view_module": "@jupyter-widgets/base",
            "_view_module_version": "1.2.0",
            "_view_name": "StyleView",
            "description_width": ""
          }
        }
      }
    }
  },
  "nbformat": 4,
  "nbformat_minor": 0
}