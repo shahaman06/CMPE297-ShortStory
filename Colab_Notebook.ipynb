{
  "cells": [
    {
      "cell_type": "markdown",
      "metadata": {
        "id": "view-in-github",
        "colab_type": "text"
      },
      "source": [
        "<a href=\"https://colab.research.google.com/github/shahaman06/CMPE297-ShortStory/blob/main/Colab_Notebook.ipynb\" target=\"_parent\"><img src=\"https://colab.research.google.com/assets/colab-badge.svg\" alt=\"Open In Colab\"/></a>"
      ]
    },
    {
      "cell_type": "code",
      "source": [
        "#Intial Files Setup\n",
        "\n",
        "!rm -r *\n",
        "!git clone \"https://github.com/shahaman06/CMPE297-ShortStory/\"\n",
        "!mv /content/CMPE297-ShortStory/* /content/\n",
        "!rm -r CMPE297-ShortStory README.md Colab_Notebook.ipynb"
      ],
      "metadata": {
        "colab": {
          "base_uri": "https://localhost:8080/"
        },
        "id": "gLqlCV4x___F",
        "outputId": "78fa32fa-a37b-4e6e-e7d6-53cac6c91e89"
      },
      "execution_count": 1,
      "outputs": [
        {
          "output_type": "stream",
          "name": "stdout",
          "text": [
            "Cloning into 'CMPE297-ShortStory'...\n",
            "remote: Enumerating objects: 802, done.\u001b[K\n",
            "remote: Counting objects: 100% (802/802), done.\u001b[K\n",
            "remote: Compressing objects: 100% (796/796), done.\u001b[K\n",
            "remote: Total 802 (delta 19), reused 781 (delta 6), pack-reused 0\u001b[K\n",
            "Receiving objects: 100% (802/802), 10.62 MiB | 19.81 MiB/s, done.\n",
            "Resolving deltas: 100% (19/19), done.\n"
          ]
        }
      ]
    },
    {
      "cell_type": "code",
      "execution_count": 17,
      "metadata": {
        "id": "APkMNevY0S95"
      },
      "outputs": [],
      "source": [
        "# import torch.nn as nn\n",
        "# import torchvision\n",
        "import os\n",
        "import cv2\n",
        "import numpy as np\n",
        "from tqdm.contrib import itertools\n",
        "\n",
        "from torch.cuda import is_available\n",
        "from torch.utils.data import DataLoader,Dataset\n",
        "from torch.optim import Adam\n",
        "from torch.nn import BCELoss\n",
        "from torch import ones, randn, tensor\n",
        "from torchvision import transforms\n",
        "from modules import Discriminator, Generator\n",
        "import tqdm\n",
        "from glob import glob\n",
        "\n",
        "# Make sure you are using GPU during Colab Session for faster execution\n",
        "device = 'cuda' if is_available() else 'cpu'"
      ]
    },
    {
      "cell_type": "code",
      "execution_count": 3,
      "metadata": {
        "id": "ob1QpK600S-I"
      },
      "outputs": [],
      "source": [
        "# Declaring GLOBAL VARS:\n",
        "BATCH_SIZE = 25\n",
        "IMG_SHAPE = 208\n",
        "EPOCHS = 5\n",
        "RANDOM_NOISE_SHAPE = 256"
      ]
    },
    {
      "cell_type": "code",
      "source": [
        "class PaintingDataset(Dataset):\n",
        "    def __init__(self, loc = os.path.join('/content/paintings/'), img_shape = 208):\n",
        "        self.loc = loc\n",
        "        self.img_shape = img_shape\n",
        "        self.paintings=[]\n",
        "        # removing invalid image files\n",
        "        for i in glob(os.path.join(loc+'*.jpg')):\n",
        "          img = cv2.imread(i)\n",
        "          if type(img) != type(None):\n",
        "            self.paintings.append(i)\n",
        "\n",
        "    def __len__(self):\n",
        "        return len(self.paintings)\n",
        "    \n",
        "    def __getitem__(self, idx):\n",
        "        img = self.paintings[idx]\n",
        "        img = cv2.imread(img)\n",
        "        img = cv2.resize(img, (self.img_shape, self.img_shape))\n",
        "        img = np.moveaxis(img, -1, 0) # pytorch takes channel first images\n",
        "        img = tensor(img).float()\n",
        "        return img.to(device)"
      ],
      "metadata": {
        "id": "1Kihe7XgJayJ"
      },
      "execution_count": 4,
      "outputs": []
    },
    {
      "cell_type": "code",
      "source": [
        "ds = PaintingDataset(img_shape = IMG_SHAPE,)\n",
        "loader = DataLoader(ds, shuffle = True, batch_size = BATCH_SIZE)\n",
        "batch = next(iter(loader))"
      ],
      "metadata": {
        "id": "BBFWb5Kv21et"
      },
      "execution_count": 5,
      "outputs": []
    },
    {
      "cell_type": "code",
      "execution_count": 18,
      "metadata": {
        "colab": {
          "base_uri": "https://localhost:8080/",
          "height": 49,
          "referenced_widgets": [
            "0c0013ace1ae41c9af13bbc98e71d45f",
            "9be0b1918fb640ba963069295b5103a0",
            "a8c4ac9b69f14559b56392e54bf8cedf",
            "df8a1970da2e436eb14da9710dbabe8d",
            "03929703a92d4961a8dba3125a101854",
            "b593125c3a604feb893be7f4c44596e6",
            "b25c63efd44d4580b230fe5fbb71a42b",
            "71b778d23be9421b91ceaf245a474d7d",
            "a6b9e25d13f342adbb7d08275e82f2ad",
            "f2b4dbcae7ee4d2599ebb82eec22104f",
            "60f24cd3a15a4ecf99d5fae51cfeefc5"
          ]
        },
        "id": "oRIDPUel0S-N",
        "outputId": "77f535a9-23b1-42d0-ddbe-493b3ca4b90c"
      },
      "outputs": [
        {
          "output_type": "display_data",
          "data": {
            "text/plain": [
              "  0%|          | 0/410 [00:00<?, ?it/s]"
            ],
            "application/vnd.jupyter.widget-view+json": {
              "version_major": 2,
              "version_minor": 0,
              "model_id": "0c0013ace1ae41c9af13bbc98e71d45f"
            }
          },
          "metadata": {}
        }
      ],
      "source": [
        "disc = Discriminator().to(device)\n",
        "gen = Generator().to(device)\n",
        "\n",
        "lr = 0.0002\n",
        "epochs = 2\n",
        "\n",
        "optimD = Adam(disc.parameters(), lr = lr, betas = (0.5, 0.99))\n",
        "optimG = Adam(gen.parameters(), lr = lr, betas = (0.5, 0.99))\n",
        "\n",
        "criterion = BCELoss()\n",
        "\n",
        "real_label = 1\n",
        "fake_label = 0\n",
        "\n",
        "for _,data in itertools.product(range(EPOCHS),loader):\n",
        "# for data in tqdm.tqdm(loader,position=1,leave=False):\n",
        "    batch_size = data.shape[0]\n",
        "\n",
        "    ## Training discriminator\n",
        "\n",
        "    '''First feeding the real images'''\n",
        "    label = (ones(batch_size)* 0.9).to(device)\n",
        "    output = disc(data).reshape(-1)\n",
        "    lossD_real = criterion(output, label)\n",
        "\n",
        "    '''feeding generated images'''\n",
        "    label = (ones(batch_size) * 0.1).to(device)\n",
        "    rand_noise = randn((batch_size, RANDOM_NOISE_SHAPE, 1, 1)).to(device)\n",
        "    fake_image = gen(rand_noise)\n",
        "    output = disc(fake_image.detach()).reshape(-1)\n",
        "    lossD_fake = criterion(output, label)\n",
        "\n",
        "    '''Back propogating discriminator and updating weights'''\n",
        "    disc.zero_grad()\n",
        "    lossD = lossD_real + lossD_fake\n",
        "    lossD.backward()\n",
        "    optimD.step()\n",
        "\n",
        "    ## Training generator\n",
        "\n",
        "    label = ones(batch_size).to(device)\n",
        "    output = disc(fake_image).reshape(-1)\n",
        "    lossG = criterion(output, label)\n",
        "\n",
        "    '''Backpropogating'''\n",
        "    gen.zero_grad()\n",
        "    lossG.backward()\n",
        "    optimG.step()"
      ]
    }
  ],
  "metadata": {
    "kernelspec": {
      "display_name": "Python 3",
      "language": "python",
      "name": "python3"
    },
    "language_info": {
      "codemirror_mode": {
        "name": "ipython",
        "version": 3
      },
      "file_extension": ".py",
      "mimetype": "text/x-python",
      "name": "python",
      "nbconvert_exporter": "python",
      "pygments_lexer": "ipython3",
      "version": "3.6.9"
    },
    "colab": {
      "provenance": [],
      "include_colab_link": true
    },
    "accelerator": "GPU",
    "gpuClass": "standard",
    "widgets": {
      "application/vnd.jupyter.widget-state+json": {
        "0c0013ace1ae41c9af13bbc98e71d45f": {
          "model_module": "@jupyter-widgets/controls",
          "model_name": "HBoxModel",
          "model_module_version": "1.5.0",
          "state": {
            "_dom_classes": [],
            "_model_module": "@jupyter-widgets/controls",
            "_model_module_version": "1.5.0",
            "_model_name": "HBoxModel",
            "_view_count": null,
            "_view_module": "@jupyter-widgets/controls",
            "_view_module_version": "1.5.0",
            "_view_name": "HBoxView",
            "box_style": "",
            "children": [
              "IPY_MODEL_9be0b1918fb640ba963069295b5103a0",
              "IPY_MODEL_a8c4ac9b69f14559b56392e54bf8cedf",
              "IPY_MODEL_df8a1970da2e436eb14da9710dbabe8d"
            ],
            "layout": "IPY_MODEL_03929703a92d4961a8dba3125a101854"
          }
        },
        "9be0b1918fb640ba963069295b5103a0": {
          "model_module": "@jupyter-widgets/controls",
          "model_name": "HTMLModel",
          "model_module_version": "1.5.0",
          "state": {
            "_dom_classes": [],
            "_model_module": "@jupyter-widgets/controls",
            "_model_module_version": "1.5.0",
            "_model_name": "HTMLModel",
            "_view_count": null,
            "_view_module": "@jupyter-widgets/controls",
            "_view_module_version": "1.5.0",
            "_view_name": "HTMLView",
            "description": "",
            "description_tooltip": null,
            "layout": "IPY_MODEL_b593125c3a604feb893be7f4c44596e6",
            "placeholder": "​",
            "style": "IPY_MODEL_b25c63efd44d4580b230fe5fbb71a42b",
            "value": "100%"
          }
        },
        "a8c4ac9b69f14559b56392e54bf8cedf": {
          "model_module": "@jupyter-widgets/controls",
          "model_name": "FloatProgressModel",
          "model_module_version": "1.5.0",
          "state": {
            "_dom_classes": [],
            "_model_module": "@jupyter-widgets/controls",
            "_model_module_version": "1.5.0",
            "_model_name": "FloatProgressModel",
            "_view_count": null,
            "_view_module": "@jupyter-widgets/controls",
            "_view_module_version": "1.5.0",
            "_view_name": "ProgressView",
            "bar_style": "success",
            "description": "",
            "description_tooltip": null,
            "layout": "IPY_MODEL_71b778d23be9421b91ceaf245a474d7d",
            "max": 410,
            "min": 0,
            "orientation": "horizontal",
            "style": "IPY_MODEL_a6b9e25d13f342adbb7d08275e82f2ad",
            "value": 410
          }
        },
        "df8a1970da2e436eb14da9710dbabe8d": {
          "model_module": "@jupyter-widgets/controls",
          "model_name": "HTMLModel",
          "model_module_version": "1.5.0",
          "state": {
            "_dom_classes": [],
            "_model_module": "@jupyter-widgets/controls",
            "_model_module_version": "1.5.0",
            "_model_name": "HTMLModel",
            "_view_count": null,
            "_view_module": "@jupyter-widgets/controls",
            "_view_module_version": "1.5.0",
            "_view_name": "HTMLView",
            "description": "",
            "description_tooltip": null,
            "layout": "IPY_MODEL_f2b4dbcae7ee4d2599ebb82eec22104f",
            "placeholder": "​",
            "style": "IPY_MODEL_60f24cd3a15a4ecf99d5fae51cfeefc5",
            "value": " 410/410 [03:13&lt;00:00,  2.28it/s]"
          }
        },
        "03929703a92d4961a8dba3125a101854": {
          "model_module": "@jupyter-widgets/base",
          "model_name": "LayoutModel",
          "model_module_version": "1.2.0",
          "state": {
            "_model_module": "@jupyter-widgets/base",
            "_model_module_version": "1.2.0",
            "_model_name": "LayoutModel",
            "_view_count": null,
            "_view_module": "@jupyter-widgets/base",
            "_view_module_version": "1.2.0",
            "_view_name": "LayoutView",
            "align_content": null,
            "align_items": null,
            "align_self": null,
            "border": null,
            "bottom": null,
            "display": null,
            "flex": null,
            "flex_flow": null,
            "grid_area": null,
            "grid_auto_columns": null,
            "grid_auto_flow": null,
            "grid_auto_rows": null,
            "grid_column": null,
            "grid_gap": null,
            "grid_row": null,
            "grid_template_areas": null,
            "grid_template_columns": null,
            "grid_template_rows": null,
            "height": null,
            "justify_content": null,
            "justify_items": null,
            "left": null,
            "margin": null,
            "max_height": null,
            "max_width": null,
            "min_height": null,
            "min_width": null,
            "object_fit": null,
            "object_position": null,
            "order": null,
            "overflow": null,
            "overflow_x": null,
            "overflow_y": null,
            "padding": null,
            "right": null,
            "top": null,
            "visibility": null,
            "width": null
          }
        },
        "b593125c3a604feb893be7f4c44596e6": {
          "model_module": "@jupyter-widgets/base",
          "model_name": "LayoutModel",
          "model_module_version": "1.2.0",
          "state": {
            "_model_module": "@jupyter-widgets/base",
            "_model_module_version": "1.2.0",
            "_model_name": "LayoutModel",
            "_view_count": null,
            "_view_module": "@jupyter-widgets/base",
            "_view_module_version": "1.2.0",
            "_view_name": "LayoutView",
            "align_content": null,
            "align_items": null,
            "align_self": null,
            "border": null,
            "bottom": null,
            "display": null,
            "flex": null,
            "flex_flow": null,
            "grid_area": null,
            "grid_auto_columns": null,
            "grid_auto_flow": null,
            "grid_auto_rows": null,
            "grid_column": null,
            "grid_gap": null,
            "grid_row": null,
            "grid_template_areas": null,
            "grid_template_columns": null,
            "grid_template_rows": null,
            "height": null,
            "justify_content": null,
            "justify_items": null,
            "left": null,
            "margin": null,
            "max_height": null,
            "max_width": null,
            "min_height": null,
            "min_width": null,
            "object_fit": null,
            "object_position": null,
            "order": null,
            "overflow": null,
            "overflow_x": null,
            "overflow_y": null,
            "padding": null,
            "right": null,
            "top": null,
            "visibility": null,
            "width": null
          }
        },
        "b25c63efd44d4580b230fe5fbb71a42b": {
          "model_module": "@jupyter-widgets/controls",
          "model_name": "DescriptionStyleModel",
          "model_module_version": "1.5.0",
          "state": {
            "_model_module": "@jupyter-widgets/controls",
            "_model_module_version": "1.5.0",
            "_model_name": "DescriptionStyleModel",
            "_view_count": null,
            "_view_module": "@jupyter-widgets/base",
            "_view_module_version": "1.2.0",
            "_view_name": "StyleView",
            "description_width": ""
          }
        },
        "71b778d23be9421b91ceaf245a474d7d": {
          "model_module": "@jupyter-widgets/base",
          "model_name": "LayoutModel",
          "model_module_version": "1.2.0",
          "state": {
            "_model_module": "@jupyter-widgets/base",
            "_model_module_version": "1.2.0",
            "_model_name": "LayoutModel",
            "_view_count": null,
            "_view_module": "@jupyter-widgets/base",
            "_view_module_version": "1.2.0",
            "_view_name": "LayoutView",
            "align_content": null,
            "align_items": null,
            "align_self": null,
            "border": null,
            "bottom": null,
            "display": null,
            "flex": null,
            "flex_flow": null,
            "grid_area": null,
            "grid_auto_columns": null,
            "grid_auto_flow": null,
            "grid_auto_rows": null,
            "grid_column": null,
            "grid_gap": null,
            "grid_row": null,
            "grid_template_areas": null,
            "grid_template_columns": null,
            "grid_template_rows": null,
            "height": null,
            "justify_content": null,
            "justify_items": null,
            "left": null,
            "margin": null,
            "max_height": null,
            "max_width": null,
            "min_height": null,
            "min_width": null,
            "object_fit": null,
            "object_position": null,
            "order": null,
            "overflow": null,
            "overflow_x": null,
            "overflow_y": null,
            "padding": null,
            "right": null,
            "top": null,
            "visibility": null,
            "width": null
          }
        },
        "a6b9e25d13f342adbb7d08275e82f2ad": {
          "model_module": "@jupyter-widgets/controls",
          "model_name": "ProgressStyleModel",
          "model_module_version": "1.5.0",
          "state": {
            "_model_module": "@jupyter-widgets/controls",
            "_model_module_version": "1.5.0",
            "_model_name": "ProgressStyleModel",
            "_view_count": null,
            "_view_module": "@jupyter-widgets/base",
            "_view_module_version": "1.2.0",
            "_view_name": "StyleView",
            "bar_color": null,
            "description_width": ""
          }
        },
        "f2b4dbcae7ee4d2599ebb82eec22104f": {
          "model_module": "@jupyter-widgets/base",
          "model_name": "LayoutModel",
          "model_module_version": "1.2.0",
          "state": {
            "_model_module": "@jupyter-widgets/base",
            "_model_module_version": "1.2.0",
            "_model_name": "LayoutModel",
            "_view_count": null,
            "_view_module": "@jupyter-widgets/base",
            "_view_module_version": "1.2.0",
            "_view_name": "LayoutView",
            "align_content": null,
            "align_items": null,
            "align_self": null,
            "border": null,
            "bottom": null,
            "display": null,
            "flex": null,
            "flex_flow": null,
            "grid_area": null,
            "grid_auto_columns": null,
            "grid_auto_flow": null,
            "grid_auto_rows": null,
            "grid_column": null,
            "grid_gap": null,
            "grid_row": null,
            "grid_template_areas": null,
            "grid_template_columns": null,
            "grid_template_rows": null,
            "height": null,
            "justify_content": null,
            "justify_items": null,
            "left": null,
            "margin": null,
            "max_height": null,
            "max_width": null,
            "min_height": null,
            "min_width": null,
            "object_fit": null,
            "object_position": null,
            "order": null,
            "overflow": null,
            "overflow_x": null,
            "overflow_y": null,
            "padding": null,
            "right": null,
            "top": null,
            "visibility": null,
            "width": null
          }
        },
        "60f24cd3a15a4ecf99d5fae51cfeefc5": {
          "model_module": "@jupyter-widgets/controls",
          "model_name": "DescriptionStyleModel",
          "model_module_version": "1.5.0",
          "state": {
            "_model_module": "@jupyter-widgets/controls",
            "_model_module_version": "1.5.0",
            "_model_name": "DescriptionStyleModel",
            "_view_count": null,
            "_view_module": "@jupyter-widgets/base",
            "_view_module_version": "1.2.0",
            "_view_name": "StyleView",
            "description_width": ""
          }
        }
      }
    }
  },
  "nbformat": 4,
  "nbformat_minor": 0
}