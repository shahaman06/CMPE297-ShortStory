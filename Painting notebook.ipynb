{
 "cells": [
  {
   "cell_type": "code",
   "execution_count": 63,
   "metadata": {},
   "outputs": [
    {
     "data": {
      "text/plain": [
       "('/home/pyf/ML/GAN/Painting GAN',\n",
       " ['.ipynb_checkpoints',\n",
       "  'GANs.py',\n",
       "  'Painting',\n",
       "  'Untitled.ipynb',\n",
       "  '__pycache__'])"
      ]
     },
     "execution_count": 63,
     "metadata": {},
     "output_type": "execute_result"
    }
   ],
   "source": [
    "import cv2\n",
    "import numpy as np\n",
    "from torch.utils.data import Dataset, DataLoader\n",
    "import torch.optim as optim\n",
    "import torch\n",
    "import torch.nn as nn\n",
    "import torchvision\n",
    "from torchvision import transforms\n",
    "import os\n",
    "from glob import glob\n",
    "from GANs import Discriminator, Generator\n",
    "from tqdm import tqdm\n",
    "os.getcwd(), os.listdir()"
   ]
  },
  {
   "cell_type": "code",
   "execution_count": 18,
   "metadata": {},
   "outputs": [
    {
     "data": {
      "text/plain": [
       "'cpu'"
      ]
     },
     "execution_count": 18,
     "metadata": {},
     "output_type": "execute_result"
    }
   ],
   "source": [
    "device = 'cuda' if torch.cuda.is_available() else 'cpu'\n",
    "device"
   ]
  },
  {
   "cell_type": "code",
   "execution_count": 66,
   "metadata": {},
   "outputs": [],
   "source": [
    "# Declaring GLOBAL VARS:\n",
    "BATCH_SIZE = 5\n",
    "IMG_SHAPE = 208\n",
    "CHANNELS = 3\n",
    "EPOCHS = 5\n",
    "FEATURES = 16\n",
    "RANDOM_NOISE_SHAPE = 256"
   ]
  },
  {
   "cell_type": "code",
   "execution_count": 42,
   "metadata": {},
   "outputs": [
    {
     "data": {
      "text/plain": [
       "torch.Size([5, 3, 208, 208])"
      ]
     },
     "execution_count": 42,
     "metadata": {},
     "output_type": "execute_result"
    }
   ],
   "source": [
    "class PaintingDataset(Dataset):\n",
    "    def __init__(self, loc = os.path.join('Painting', 'train_2'), img_shape = 208):\n",
    "        self.paintings = glob(os.path.join(loc, '')+'*.jpg')\n",
    "        self.img_shape = img_shape\n",
    "        \n",
    "    def __len__(self):\n",
    "        return len(self.paintings)\n",
    "    \n",
    "    def __getitem__(self, idx):\n",
    "        img = self.paintings[idx]\n",
    "        img = cv2.imread(img)\n",
    "        img = cv2.resize(img, (self.img_shape, self.img_shape))\n",
    "        img = np.moveaxis(img, -1, 0) # pytorch takes channel first images\n",
    "        img = torch.tensor(img).float()\n",
    "        return img.to(device)\n",
    "        \n",
    "ds = PaintingDataset(img_shape = IMG_SHAPE)\n",
    "ds[1].shape # -> torch.Size([3, 208, 208])\n",
    "loader = DataLoader(ds, shuffle = True, batch_size = BATCH_SIZE)\n",
    "batch = next(iter(loader))\n",
    "batch.shape # -> torch.Size([5,3, 208, 208])"
   ]
  },
  {
   "cell_type": "code",
   "execution_count": 67,
   "metadata": {},
   "outputs": [
    {
     "name": "stderr",
     "output_type": "stream",
     "text": [
      "  0%|          | 0/2 [07:32<?, ?it/s]\n"
     ]
    },
    {
     "ename": "KeyboardInterrupt",
     "evalue": "",
     "output_type": "error",
     "traceback": [
      "\u001b[0;31m---------------------------------------------------------------------------\u001b[0m",
      "\u001b[0;31mKeyboardInterrupt\u001b[0m                         Traceback (most recent call last)",
      "\u001b[0;32m<ipython-input-67-5406076360b0>\u001b[0m in \u001b[0;36m<module>\u001b[0;34m\u001b[0m\n\u001b[1;32m     47\u001b[0m         \u001b[0;34m'''Backpropogating'''\u001b[0m\u001b[0;34m\u001b[0m\u001b[0;34m\u001b[0m\u001b[0m\n\u001b[1;32m     48\u001b[0m         \u001b[0mgen\u001b[0m\u001b[0;34m.\u001b[0m\u001b[0mzero_grad\u001b[0m\u001b[0;34m(\u001b[0m\u001b[0;34m)\u001b[0m\u001b[0;34m\u001b[0m\u001b[0;34m\u001b[0m\u001b[0m\n\u001b[0;32m---> 49\u001b[0;31m         \u001b[0mlossG\u001b[0m\u001b[0;34m.\u001b[0m\u001b[0mbackward\u001b[0m\u001b[0;34m(\u001b[0m\u001b[0;34m)\u001b[0m\u001b[0;34m\u001b[0m\u001b[0;34m\u001b[0m\u001b[0m\n\u001b[0m\u001b[1;32m     50\u001b[0m         \u001b[0moptimG\u001b[0m\u001b[0;34m.\u001b[0m\u001b[0mstep\u001b[0m\u001b[0;34m(\u001b[0m\u001b[0;34m)\u001b[0m\u001b[0;34m\u001b[0m\u001b[0;34m\u001b[0m\u001b[0m\n",
      "\u001b[0;32m~/.local/lib/python3.6/site-packages/torch/tensor.py\u001b[0m in \u001b[0;36mbackward\u001b[0;34m(self, gradient, retain_graph, create_graph)\u001b[0m\n\u001b[1;32m    193\u001b[0m                 \u001b[0mproducts\u001b[0m\u001b[0;34m.\u001b[0m \u001b[0mDefaults\u001b[0m \u001b[0mto\u001b[0m\u001b[0;31m \u001b[0m\u001b[0;31m`\u001b[0m\u001b[0;31m`\u001b[0m\u001b[0;32mFalse\u001b[0m\u001b[0;31m`\u001b[0m\u001b[0;31m`\u001b[0m\u001b[0;34m.\u001b[0m\u001b[0;34m\u001b[0m\u001b[0;34m\u001b[0m\u001b[0m\n\u001b[1;32m    194\u001b[0m         \"\"\"\n\u001b[0;32m--> 195\u001b[0;31m         \u001b[0mtorch\u001b[0m\u001b[0;34m.\u001b[0m\u001b[0mautograd\u001b[0m\u001b[0;34m.\u001b[0m\u001b[0mbackward\u001b[0m\u001b[0;34m(\u001b[0m\u001b[0mself\u001b[0m\u001b[0;34m,\u001b[0m \u001b[0mgradient\u001b[0m\u001b[0;34m,\u001b[0m \u001b[0mretain_graph\u001b[0m\u001b[0;34m,\u001b[0m \u001b[0mcreate_graph\u001b[0m\u001b[0;34m)\u001b[0m\u001b[0;34m\u001b[0m\u001b[0;34m\u001b[0m\u001b[0m\n\u001b[0m\u001b[1;32m    196\u001b[0m \u001b[0;34m\u001b[0m\u001b[0m\n\u001b[1;32m    197\u001b[0m     \u001b[0;32mdef\u001b[0m \u001b[0mregister_hook\u001b[0m\u001b[0;34m(\u001b[0m\u001b[0mself\u001b[0m\u001b[0;34m,\u001b[0m \u001b[0mhook\u001b[0m\u001b[0;34m)\u001b[0m\u001b[0;34m:\u001b[0m\u001b[0;34m\u001b[0m\u001b[0;34m\u001b[0m\u001b[0m\n",
      "\u001b[0;32m~/.local/lib/python3.6/site-packages/torch/autograd/__init__.py\u001b[0m in \u001b[0;36mbackward\u001b[0;34m(tensors, grad_tensors, retain_graph, create_graph, grad_variables)\u001b[0m\n\u001b[1;32m     97\u001b[0m     Variable._execution_engine.run_backward(\n\u001b[1;32m     98\u001b[0m         \u001b[0mtensors\u001b[0m\u001b[0;34m,\u001b[0m \u001b[0mgrad_tensors\u001b[0m\u001b[0;34m,\u001b[0m \u001b[0mretain_graph\u001b[0m\u001b[0;34m,\u001b[0m \u001b[0mcreate_graph\u001b[0m\u001b[0;34m,\u001b[0m\u001b[0;34m\u001b[0m\u001b[0;34m\u001b[0m\u001b[0m\n\u001b[0;32m---> 99\u001b[0;31m         allow_unreachable=True)  # allow_unreachable flag\n\u001b[0m\u001b[1;32m    100\u001b[0m \u001b[0;34m\u001b[0m\u001b[0m\n\u001b[1;32m    101\u001b[0m \u001b[0;34m\u001b[0m\u001b[0m\n",
      "\u001b[0;31mKeyboardInterrupt\u001b[0m: "
     ]
    }
   ],
   "source": [
    "disc = Discriminator().to(device)\n",
    "gen = Generator().to(device)\n",
    "\n",
    "lr = 0.0002\n",
    "epochs = 2\n",
    "\n",
    "optimD = optim.Adam(disc.parameters(), lr = lr, betas = (0.5, 0.99))\n",
    "optimG = optim.Adam(gen.parameters(), lr = lr, betas = (0.5, 0.99))\n",
    "\n",
    "criterion = nn.BCELoss()\n",
    "\n",
    "real_label = 1\n",
    "fake_label = 0\n",
    "\n",
    "# fixed_noise = torch.randn(batch_size, channels_noise, 1, 1).to(device)\n",
    "\n",
    "for epoch in tqdm(range(epochs)):\n",
    "    for data in loader:\n",
    "        batch_size = data.shape[0]\n",
    "\n",
    "        ## Training discriminator\n",
    "\n",
    "        '''First feeding the real images'''\n",
    "        label = (torch.ones(batch_size)* 0.9).to(device)\n",
    "        output = disc(data).reshape(-1)\n",
    "        lossD_real = criterion(output, label)\n",
    "\n",
    "        '''feeding generated images'''\n",
    "        label = (torch.ones(batch_size) * 0.1).to(device)\n",
    "        rand_noise = torch.randn((batch_size, RANDOM_NOISE_SHAPE, 1, 1)).to(device)\n",
    "        fake_image = gen(rand_noise)\n",
    "        output = disc(fake_image.detach()).reshape(-1)\n",
    "        lossD_fake = criterion(output, label)\n",
    "\n",
    "        '''Back propogating discriminator and updating weights'''\n",
    "        disc.zero_grad()\n",
    "        lossD = lossD_real + lossD_fake\n",
    "        lossD.backward()\n",
    "        optimD.step()\n",
    "\n",
    "        ## Training generator\n",
    "\n",
    "        label = torch.ones(batch_size).to(device)\n",
    "        output = disc(fake_image).reshape(-1)\n",
    "        lossG = criterion(output, label)\n",
    "\n",
    "        '''Backpropogating'''\n",
    "        gen.zero_grad()\n",
    "        lossG.backward()\n",
    "        optimG.step()"
   ]
  },
  {
   "cell_type": "code",
   "execution_count": null,
   "metadata": {},
   "outputs": [],
   "source": []
  }
 ],
 "metadata": {
  "kernelspec": {
   "display_name": "Python 3",
   "language": "python",
   "name": "python3"
  },
  "language_info": {
   "codemirror_mode": {
    "name": "ipython",
    "version": 3
   },
   "file_extension": ".py",
   "mimetype": "text/x-python",
   "name": "python",
   "nbconvert_exporter": "python",
   "pygments_lexer": "ipython3",
   "version": "3.6.9"
  }
 },
 "nbformat": 4,
 "nbformat_minor": 4
}